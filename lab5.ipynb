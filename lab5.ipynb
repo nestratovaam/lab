{
  "nbformat": 4,
  "nbformat_minor": 0,
  "metadata": {
    "colab": {
      "name": "lab5.ipynb",
      "provenance": [],
      "collapsed_sections": []
    },
    "kernelspec": {
      "name": "python3",
      "display_name": "Python 3"
    }
  },
  "cells": [
    {
      "cell_type": "markdown",
      "metadata": {
        "id": "vqeIjHgplRxF"
      },
      "source": [
        "# Лабораторная 5"
      ]
    },
    {
      "cell_type": "markdown",
      "metadata": {
        "id": "RJY-ozoc6nMk"
      },
      "source": [
        "## Глобальные и локальные функции"
      ]
    },
    {
      "cell_type": "markdown",
      "metadata": {
        "id": "TIMCckVJtscC"
      },
      "source": [
        "### 1"
      ]
    },
    {
      "cell_type": "code",
      "metadata": {
        "colab": {
          "base_uri": "https://localhost:8080/"
        },
        "id": "Fuxt6EXylOt7",
        "outputId": "994f0477-21ce-4fc8-9b8c-039969309336"
      },
      "source": [
        "# Программирование на языке высокого уровня (Python).\r\n",
        "# https://www.yuripetrov.ru/edu/python\r\n",
        "# Задание task_05_02_01.\r\n",
        "\r\n",
        "def sgn(x):\r\n",
        "  if x > 0 :\r\n",
        "    return 1\r\n",
        "  elif x == 0:\r\n",
        "    return 0\r\n",
        "  else:\r\n",
        "    return -1\r\n",
        "  \r\n",
        "\r\n",
        "x = float(input('Введите x:'))\r\n",
        "y = float(input('Введите y:'))\r\n",
        "\r\n",
        "z = (sgn(x) + y**2)/(sgn(y) - (abs(x)**(1/2)))\r\n",
        "\r\n",
        "print(\"Ответ:\", z)\r\n",
        "\r\n",
        "# Пример вывода:\r\n",
        "#\r\n",
        "# Введите x: -9\r\n",
        "# Введите y: 0\r\n",
        "# Ответ: 0.33\r\n"
      ],
      "execution_count": null,
      "outputs": [
        {
          "output_type": "stream",
          "text": [
            "Введите x:-9\n",
            "Введите y:0\n",
            "Ответ: 0.3333333333333333\n"
          ],
          "name": "stdout"
        }
      ]
    },
    {
      "cell_type": "markdown",
      "metadata": {
        "id": "Xn9zqvGGtyfv"
      },
      "source": [
        "### 2"
      ]
    },
    {
      "cell_type": "code",
      "metadata": {
        "colab": {
          "base_uri": "https://localhost:8080/"
        },
        "id": "G4zReNhLqx9V",
        "outputId": "da64c9d3-915b-429a-94b1-1d0d922540bc"
      },
      "source": [
        "# Программирование на языке высокого уровня (Python).\r\n",
        "# https://www.yuripetrov.ru/edu/python\r\n",
        "# Задание task_05_02_02.\r\n",
        "\r\n",
        "\r\n",
        "def avg(data):\r\n",
        "  sum = 0\r\n",
        "  for el in data:\r\n",
        "    sum += int(el)\r\n",
        "  avg_count = sum / len(data)\r\n",
        "  return avg_count\r\n",
        "  \r\n",
        "\r\n",
        "def cleared_data(data):\r\n",
        "    for el in data:\r\n",
        "      if el == None:\r\n",
        "        data.remove(el)\r\n",
        "    return data\r\n",
        "\r\n",
        "\r\n",
        "n = int(input(''))\r\n",
        "\r\n",
        "data = []\r\n",
        "for i in range(n):\r\n",
        "  temp = input('Измерение {}: '.format(i+1))\r\n",
        "  if temp == \"-\":\r\n",
        "    temp = None\r\n",
        "  data.append(temp)\r\n",
        "cleared_data(data)\r\n",
        "print(avg(data))\r\n",
        "\r\n",
        "\r\n",
        "# --------------\r\n",
        "# Пример вывода:\r\n",
        "#\r\n",
        "# Кол-во измерений: 3\r\n",
        "# Измерение 1-е: 10\r\n",
        "# Измерение 2-е: -\r\n",
        "# Измерение 3-е: 20\r\n",
        "# Средняя температура: 15.00\r\n"
      ],
      "execution_count": null,
      "outputs": [
        {
          "output_type": "stream",
          "text": [
            "3\n",
            "Измерение 110\n",
            "Измерение 2-\n",
            "Измерение 320\n",
            "15.0\n"
          ],
          "name": "stdout"
        }
      ]
    },
    {
      "cell_type": "markdown",
      "metadata": {
        "id": "IPy7k8Qut12X"
      },
      "source": [
        "### 3"
      ]
    },
    {
      "cell_type": "code",
      "metadata": {
        "colab": {
          "base_uri": "https://localhost:8080/"
        },
        "id": "1CyXpdaTuzFW",
        "outputId": "3fce76b9-3dc6-499e-c323-e811c822a98e"
      },
      "source": [
        "# Программирование на языке высокого уровня (Python).\r\n",
        "# https://www.yuripetrov.ru/edu/python\r\n",
        "# Задание task_05_02_03.\r\n",
        "\r\n",
        "\r\n",
        "\r\n",
        "def is_lucky(num):\r\n",
        "  count1 = 0\r\n",
        "  count2 = 0\r\n",
        "  while num > 0:\r\n",
        "    if (num % 10 % 2) == 0:\r\n",
        "      count2 += 1\r\n",
        "    else:\r\n",
        "      count1 += 1\r\n",
        "    num //= 10 \r\n",
        "\r\n",
        "  if count1 == count2:\r\n",
        "    return True\r\n",
        "  else:\r\n",
        "    return False\r\n",
        "\r\n",
        "\r\n",
        "def lucky_numbers(a, b):\r\n",
        "    for num in range(a, b + 1):\r\n",
        "      if is_lucky(num) == True:\r\n",
        "        print(num, end = ' ')\r\n",
        "\r\n",
        "      \r\n",
        "\r\n",
        "\r\n",
        "a = int(input(Первый номер билета: ))\r\n",
        "b = int(input(Последний номер билета: ))\r\n",
        "lucky_numbers(a, b)\r\n",
        "# Вывод должен быть осуществлен в строку с одним пробелом-разделителем\r\n",
        "# Удалите комментарий и допишите код\r\n",
        "\r\n",
        "# --------------\r\n",
        "# Пример вывода:\r\n",
        "#\r\n",
        "# Первый номер билета: 10\r\n",
        "# Последний номер билета: 25\r\n",
        "# 10 12 14 16 18 21 23 25\r\n"
      ],
      "execution_count": null,
      "outputs": [
        {
          "output_type": "stream",
          "text": [
            "10\n",
            "25\n",
            "10 12 14 16 18 21 23 25 "
          ],
          "name": "stdout"
        }
      ]
    },
    {
      "cell_type": "markdown",
      "metadata": {
        "id": "7d5VX8git7Py"
      },
      "source": [
        "### 4"
      ]
    },
    {
      "cell_type": "code",
      "metadata": {
        "id": "M-JWrZXIwlAI",
        "colab": {
          "base_uri": "https://localhost:8080/"
        },
        "outputId": "ed537b64-dbe9-4507-adb2-861c50762b55"
      },
      "source": [
        "# Программирование на языке высокого уровня (Python).\r\n",
        "# https://www.yuripetrov.ru/edu/python\r\n",
        "# Задание task_05_02_04.\r\n",
        "\r\n",
        "\r\n",
        "def is_leap(year):\r\n",
        "    if year % 4 == 0:\r\n",
        "      return True\r\n",
        "    else:\r\n",
        "      return False\r\n",
        "\r\n",
        "def days(month, year):\r\n",
        "  num_days=[31, 28, 31, 30, 31, 30, 31, 31, 30, 31, 30, 31]\r\n",
        "  if is_leap(year) == True:\r\n",
        "    num_days[1] = 29    \r\n",
        "  return num_days[month - 1]\r\n",
        "\r\n",
        "def previous_date(day, month, year):\r\n",
        "    if day == 1 and month == 1:\r\n",
        "      month == 12\r\n",
        "      year -= 1\r\n",
        "      day = days(month, year)\r\n",
        "    elif day == 1:\r\n",
        "      day = days(month - 1, year)\r\n",
        "      month -= 1\r\n",
        "    else:\r\n",
        "      day -= 1\r\n",
        "    return day, month, year\r\n",
        "\r\n",
        "\r\n",
        "day, month, year = (input('День, месяц, год через пробел: ')).split(\" \")\r\n",
        "day = int(day)\r\n",
        "month = int(month)\r\n",
        "year = int(year)\r\n",
        "print(previous_date(day, month, year ))\r\n",
        "\r\n",
        "# --------------\r\n",
        "# Пример вывода:\r\n",
        "#\r\n",
        "# День, месяц, год через пробел: 1 3 2000\r\n",
        "# Предыдущий день: 29/02/2000"
      ],
      "execution_count": null,
      "outputs": [
        {
          "output_type": "stream",
          "text": [
            "День, месяц, год через пробел: 31 12 2000\n",
            "(30, 12, 2000)\n"
          ],
          "name": "stdout"
        }
      ]
    },
    {
      "cell_type": "markdown",
      "metadata": {
        "id": "puAuv3cit__l"
      },
      "source": [
        "### 7"
      ]
    },
    {
      "cell_type": "code",
      "metadata": {
        "colab": {
          "base_uri": "https://localhost:8080/"
        },
        "id": "tlaEyG9EJjDG",
        "outputId": "e8e26304-b373-41b7-f013-d98da353bfdf"
      },
      "source": [
        "# Программирование на языке высокого уровня (Python).\r\n",
        "# https://www.yuripetrov.ru/edu/python\r\n",
        "# Задание task_05_02_07.\r\n",
        "\r\n",
        "\r\n",
        "def has_digits(sentence):\r\n",
        "    \"\"\"!!!\"\"\"\r\n",
        "    fl = False\r\n",
        "    for i in sentence:\r\n",
        "      if i.isdigit():\r\n",
        "        fl = True\r\n",
        "        return fl\r\n",
        "    \r\n",
        "\r\n",
        "def sentences_with_digits_count(sentences):\r\n",
        "    \"\"\"!!!.\"\"\"\r\n",
        "    count = 0\r\n",
        "    for sentence in sentences:\r\n",
        "      if has_digits(sentence):\r\n",
        "        count += 1\r\n",
        "    return(print('Предложений с цифрой =',count))\r\n",
        "\r\n",
        "\r\n",
        "n = int(input('Введите количество предложений: '))\r\n",
        "sentences = []\r\n",
        "for i in range(1, n+1):\r\n",
        "  sentences.append(input('Введите предложение № {}: '.format(i)))\r\n",
        "sentences_with_digits_count(sentences)\r\n",
        "\r\n",
        "# --------------\r\n",
        "# Пример вывода:\r\n",
        "#\r\n",
        "# Введите количество предложений: 3\r\n",
        "# Введите предложение №1:\r\n",
        "# Просто текст\r\n",
        "# Введите предложение №2:\r\n",
        "# Текст с цифрой 1 (один)\r\n",
        "# Введите предложение №3:\r\n",
        "# Тут нет цифры\r\n",
        "# Предложений с цифрой = 1\r\n"
      ],
      "execution_count": null,
      "outputs": [
        {
          "output_type": "stream",
          "text": [
            "Введите количество предложений: 3\n",
            "Введите предложение № 1: juehu45 ew4f\n",
            "Введите предложение № 2: hqw4bf4 hwefrj43\n",
            "Введите предложение № 3: qwfhkw\n",
            "Предложений с цифрой = 2\n"
          ],
          "name": "stdout"
        }
      ]
    },
    {
      "cell_type": "markdown",
      "metadata": {
        "id": "3CZDNYGcuD1e"
      },
      "source": [
        "### 8"
      ]
    },
    {
      "cell_type": "code",
      "metadata": {
        "id": "EGNaxHhm7-Bs",
        "colab": {
          "base_uri": "https://localhost:8080/"
        },
        "outputId": "aa1be9f4-b099-4070-ae18-b9c3c7706563"
      },
      "source": [
        "# Программирование на языке высокого уровня (Python).\r\n",
        "# https://www.yuripetrov.ru/edu/python\r\n",
        "# Задание task_05_02_08.\r\n",
        "\r\n",
        "\r\n",
        "def print_with_border(string, char):\r\n",
        "    \"\"\"!!!\"\"\"\r\n",
        "    print(char*(len(string) + 2))\r\n",
        "    print(char + string + char)\r\n",
        "    print(char*(len(string) + 2))\r\n",
        "\r\n",
        "\r\n",
        "\r\n",
        "s = input('Введите строку:')\r\n",
        "k = input('Введите символ:')\r\n",
        "print_with_border(s, k)\r\n",
        "\r\n",
        "# --------------\r\n",
        "# Пример вывода:\r\n",
        "#\r\n",
        "# Введите строку: Просто текст\r\n",
        "# Введите символ: +\r\n",
        "# ++++++++++++++\r\n",
        "# +Просто текст+\r\n",
        "# ++++++++++++++\r\n"
      ],
      "execution_count": null,
      "outputs": [
        {
          "output_type": "stream",
          "text": [
            "Введите строку:ghj\n",
            "Введите символ:=\n",
            "=====\n",
            "=ghj=\n",
            "=====\n"
          ],
          "name": "stdout"
        }
      ]
    },
    {
      "cell_type": "markdown",
      "metadata": {
        "id": "ROekJCk0ilSP"
      },
      "source": [
        "### 9\r\n"
      ]
    },
    {
      "cell_type": "code",
      "metadata": {
        "colab": {
          "base_uri": "https://localhost:8080/"
        },
        "id": "uPJf0c5Aipi2",
        "outputId": "70ab2ee7-4e5e-4d5d-c392-6fed1d2bc302"
      },
      "source": [
        "# Программирование на языке высокого уровня (Python).\r\n",
        "# https://www.yuripetrov.ru/edu/python\r\n",
        "# Задание task_05_02_09.\r\n",
        "\r\n",
        "\r\n",
        "def to_base(number, base):\r\n",
        "    \"\"\"Преобразовать десятичное число 'number' в с.с. 'base'.\r\n",
        "\r\n",
        "    Параметры:\r\n",
        "        number (int): десятичное число;\r\n",
        "        base (int): система счисления.\r\n",
        "\r\n",
        "    Результат:\r\n",
        "        str: число в с.с. 'base'.\"\"\"\r\n",
        "    c = 1\r\n",
        "    num = number\r\n",
        "    new_num = 0\r\n",
        "    while num > 0:\r\n",
        "      new_num += num % base *c\r\n",
        "      num //= base\r\n",
        "      c *= 10\r\n",
        "    print('Number {} in base {} is'.format(number, base), new_num )\r\n",
        "    return new_num\r\n",
        "\r\n",
        "\r\n",
        "def from_base(number, base):\r\n",
        "    \"\"\"!!!\r\n",
        "\r\n",
        "    Результат:\r\n",
        "        int: число в 10-й с.с.\"\"\"\r\n",
        "    new_num = 0\r\n",
        "    num = number\r\n",
        "    st = 0\r\n",
        "    while st <= len(str(number)) - 1:\r\n",
        "      if num % 10 > 0:\r\n",
        "       new_num += base**st\r\n",
        "      num //= 10\r\n",
        "      st += 1\r\n",
        "    return print('Number {} in base {} is'.format(number, base), new_num )\r\n",
        "\r\n",
        "n = int(input(''))\r\n",
        "b = int(input(''))\r\n",
        "new_num = to_base(n, b)\r\n",
        "from_base(new_num, b)\r\n",
        "# ---------\r\n"
      ],
      "execution_count": 38,
      "outputs": [
        {
          "output_type": "stream",
          "text": [
            "15\n",
            "2\n",
            "Number 15 in base 2 is 1111\n",
            "Number 1111 in base 2 is 15\n"
          ],
          "name": "stdout"
        }
      ]
    },
    {
      "cell_type": "markdown",
      "metadata": {
        "id": "BcDkVar9dauQ"
      },
      "source": [
        "### 10"
      ]
    },
    {
      "cell_type": "code",
      "metadata": {
        "colab": {
          "base_uri": "https://localhost:8080/"
        },
        "id": "Z3jWOnIWdWkm",
        "outputId": "f4f25fe3-0a49-4051-e986-f91b66a1fdca"
      },
      "source": [
        "# Программирование на языке высокого уровня (Python).\r\n",
        "# https://www.yuripetrov.ru/edu/python\r\n",
        "# Задание task_05_02_10.\r\n",
        "\r\n",
        "\r\n",
        "def sentence_stats(sentence):\r\n",
        "    \"\"\"Вернуть символьную статистику 'sentence'. Регистр не учитывается.\r\n",
        "\r\n",
        "\r\n",
        "    !!!\r\n",
        "    \"\"\"\r\n",
        "    stat = {}\r\n",
        "    for let in sentence:\r\n",
        "      let = let.lower()\r\n",
        "      if let not in stat.keys():\r\n",
        "        stat[let] = 1\r\n",
        "      else:\r\n",
        "        stat[let] += 1\r\n",
        "    return stat\r\n",
        "\r\n",
        "s = input('Введите предложение:')\r\n",
        "sentence_stats(s)\r\n",
        "# --------------\r\n",
        "# Пример вывода:\r\n",
        "#\r\n",
        "# Введите предложение: мама МЫла РамУ\r\n",
        "# {'л': 1, 'р': 1, 'у': 1, 'м': 4, 'а': 4, 'ы': 1, ' ': 2}\r\n",
        "\r\n"
      ],
      "execution_count": 10,
      "outputs": [
        {
          "output_type": "stream",
          "text": [
            "Введите предложение:fghfghFGHd\n"
          ],
          "name": "stdout"
        },
        {
          "output_type": "execute_result",
          "data": {
            "text/plain": [
              "{'d': 1, 'f': 3, 'g': 3, 'h': 3}"
            ]
          },
          "metadata": {
            "tags": []
          },
          "execution_count": 10
        }
      ]
    },
    {
      "cell_type": "markdown",
      "metadata": {
        "id": "cPT5jSqh618i"
      },
      "source": [
        "## Упаковка и распаковка аргументов"
      ]
    },
    {
      "cell_type": "markdown",
      "metadata": {
        "id": "Nlr9zhZhuJI5"
      },
      "source": [
        "### 14"
      ]
    },
    {
      "cell_type": "code",
      "metadata": {
        "id": "BftLufMU6_n5",
        "colab": {
          "base_uri": "https://localhost:8080/"
        },
        "outputId": "4f6e1b79-60f4-4593-bc44-5aea7a1461cf"
      },
      "source": [
        "# Программирование на языке высокого уровня (Python).\r\n",
        "# https://www.yuripetrov.ru/edu/python\r\n",
        "# Задание task_05_02_14.\r\n",
        "\r\n",
        "\r\n",
        "def split_numbers(*numbers):\r\n",
        "    \"\"\"Вернуть 2 списка - отрицательных и неотрицательных значений.\r\n",
        "\r\n",
        "    !!!\r\n",
        "\r\n",
        "    Результат:\r\n",
        "        - list: отрицательные значения;\r\n",
        "        - list: неотицательные значения.\"\"\"\r\n",
        "    listm = []\r\n",
        "    listp = []\r\n",
        "    for el in numbers:\r\n",
        "      if el < 0:\r\n",
        "        listm.append(el)\r\n",
        "      else:\r\n",
        "        listp.append(el)\r\n",
        "    listp.sort()\r\n",
        "    listm.sort(reverse = True)\r\n",
        "    return listm, listp\r\n",
        "\r\n",
        "\r\n",
        "print(split_numbers(1, 4, -5, 0, -33))\r\n",
        "\r\n",
        "# --------------\r\n",
        "# Пример вывода:\r\n",
        "#\r\n",
        "# ([-5, -33], [0, 1, 4])\r\n"
      ],
      "execution_count": null,
      "outputs": [
        {
          "output_type": "stream",
          "text": [
            "([-5, -33], [0, 1, 4])\n"
          ],
          "name": "stdout"
        }
      ]
    },
    {
      "cell_type": "markdown",
      "metadata": {
        "id": "BKqgURhb7NWF"
      },
      "source": [
        "## Рекурсия"
      ]
    },
    {
      "cell_type": "markdown",
      "metadata": {
        "id": "ER2qwf7suRtl"
      },
      "source": [
        "### 16"
      ]
    },
    {
      "cell_type": "code",
      "metadata": {
        "id": "zGoPP9Rn7Qtj",
        "colab": {
          "base_uri": "https://localhost:8080/"
        },
        "outputId": "8a15448a-4d77-469d-e549-f0ae9e3b1852"
      },
      "source": [
        "# Программирование на языке высокого уровня (Python).\r\n",
        "# https://www.yuripetrov.ru/edu/python\r\n",
        "# Задание task_05_02_16.\r\n",
        "\r\n",
        "\r\n",
        "def pow1(value, power):\r\n",
        "    \"\"\"Вернуть 'value' в степени 'power'.\r\n",
        "\r\n",
        "    Параметры:\r\n",
        "        - !!!.\r\n",
        "\r\n",
        "    Результат:\r\n",
        "        !!!.\"\"\"\r\n",
        "    return value**power\r\n",
        "\r\n",
        "\r\n",
        "def pow2(value, power):\r\n",
        "    \"\"\"Вернуть 'value' в степени 'power'. Рекурсивный алгоритм.\r\n",
        "\r\n",
        "    Параметры:\r\n",
        "        - !!!.\r\n",
        "\r\n",
        "    Результат:\r\n",
        "        !!!.\"\"\"\r\n",
        "    \r\n",
        "    if power > 0:\r\n",
        "        return value * pow2(value, power - 1)\r\n",
        "    else:\r\n",
        "        return 1   \r\n",
        "\r\n",
        "\r\n",
        "print(pow1(5, 3))\r\n",
        "print(pow2(5, 3))\r\n",
        "\r\n",
        "# --------------\r\n",
        "# Пример вывода:\r\n",
        "#\r\n",
        "# 125\r\n",
        "# 125\r\n"
      ],
      "execution_count": null,
      "outputs": [
        {
          "output_type": "stream",
          "text": [
            "125\n",
            "125\n"
          ],
          "name": "stdout"
        }
      ]
    },
    {
      "cell_type": "markdown",
      "metadata": {
        "id": "9HADfm4guU3B"
      },
      "source": [
        "### 17"
      ]
    },
    {
      "cell_type": "code",
      "metadata": {
        "id": "Fo3gNHnG7bfu",
        "colab": {
          "base_uri": "https://localhost:8080/"
        },
        "outputId": "538fac4d-e64b-499a-de96-4228b9ba3d49"
      },
      "source": [
        "# Программирование на языке высокого уровня (Python).\r\n",
        "# https://www.yuripetrov.ru/edu/python\r\n",
        "# Задание task_05_02_17.\r\n",
        "\r\n",
        "def digits_sum(value):\r\n",
        "    \"\"\"Вернуть сумму цифр числа 'value'. Рекурсивная реализация.\r\n",
        "\r\n",
        "    Параметры:\r\n",
        "        - !!!.\r\n",
        "\r\n",
        "    Результат:\r\n",
        "        !!!.\r\n",
        "    \"\"\"\r\n",
        "    if value > 1:\r\n",
        "      return value % 10 + digits_sum(value // 10)\r\n",
        "    else:\r\n",
        "      return 1 \r\n",
        "\r\n",
        "\r\n",
        "def digits_count(value):\r\n",
        "    \"\"\"Вернуть количество цифр числа 'value'. Рекурсивная реализация.\r\n",
        "\r\n",
        "    Параметры:\r\n",
        "        - !!!.\r\n",
        "\r\n",
        "    Результат:\r\n",
        "        !!!.\r\n",
        "    \"\"\"\r\n",
        "    c = 0\r\n",
        "    if value > 0:\r\n",
        "      return 1 + digits_count(value//10)\r\n",
        "    else:\r\n",
        "      return 0\r\n",
        "\r\n",
        "\r\n",
        "print(digits_sum(12345))\r\n",
        "print(digits_count(12345))\r\n",
        "\r\n",
        "# --------------\r\n",
        "# Пример вывода:\r\n",
        "#\r\n",
        "# 15\r\n",
        "# 5\r\n"
      ],
      "execution_count": null,
      "outputs": [
        {
          "output_type": "stream",
          "text": [
            "15\n",
            "--------------------\n",
            "5\n"
          ],
          "name": "stdout"
        }
      ]
    }
  ]
}